{
  "nbformat": 4,
  "nbformat_minor": 0,
  "metadata": {
    "colab": {
      "provenance": [],
      "authorship_tag": "ABX9TyO8vH2MobXJXZ3SmQgs6H3E",
      "include_colab_link": true
    },
    "kernelspec": {
      "name": "python3",
      "display_name": "Python 3"
    },
    "language_info": {
      "name": "python"
    }
  },
  "cells": [
    {
      "cell_type": "markdown",
      "metadata": {
        "id": "view-in-github",
        "colab_type": "text"
      },
      "source": [
        "<a href=\"https://colab.research.google.com/github/ssojjeong/Github/blob/main/Untitled0.ipynb\" target=\"_parent\"><img src=\"https://colab.research.google.com/assets/colab-badge.svg\" alt=\"Open In Colab\"/></a>"
      ]
    },
    {
      "cell_type": "code",
      "source": [
        "a =[]\n",
        "b=int(input(\"자연수 한 개를 입력하세요.\"))\n",
        "a.append(b)\n",
        "\n",
        "for i in range(99):\n",
        "  b=int(input(\"계속 입력을 원하시면, 자연수 한 개를 입력하시고, 아니라면 0을 입력하세요.\"))\n",
        "\n",
        "  if b == 0:\n",
        "    break\n",
        "\n",
        "  a.append(b)\n",
        "\n",
        "  if i == 98:\n",
        "    print(\"이제 그만하세요. 벌써 100개를 입력했어요.\")\n",
        "\n",
        "\n",
        "for j in range(len(a)):\n",
        "  for k in range(j+1, len(a)):\n",
        "\n",
        "    if a[j]< a[k]:\n",
        "      a[j], a[k]= a[k], a[j]\n",
        "  \n",
        "print(a)"
      ],
      "metadata": {
        "colab": {
          "base_uri": "https://localhost:8080/"
        },
        "id": "-yWDYZtcL1V4",
        "outputId": "8f1a123c-395e-4171-8f74-88819e7a7fc7"
      },
      "execution_count": 6,
      "outputs": [
        {
          "output_type": "stream",
          "name": "stdout",
          "text": [
            "자연수 한 개를 입력하세요.1\n",
            "계속 입력을 원하시면, 자연수 한 개를 입력하시고, 아니라면 0을 입력하세요.2\n",
            "계속 입력을 원하시면, 자연수 한 개를 입력하시고, 아니라면 0을 입력하세요.3\n",
            "계속 입력을 원하시면, 자연수 한 개를 입력하시고, 아니라면 0을 입력하세요.4\n",
            "계속 입력을 원하시면, 자연수 한 개를 입력하시고, 아니라면 0을 입력하세요.5\n",
            "계속 입력을 원하시면, 자연수 한 개를 입력하시고, 아니라면 0을 입력하세요.6\n",
            "계속 입력을 원하시면, 자연수 한 개를 입력하시고, 아니라면 0을 입력하세요.7\n",
            "계속 입력을 원하시면, 자연수 한 개를 입력하시고, 아니라면 0을 입력하세요.8\n",
            "계속 입력을 원하시면, 자연수 한 개를 입력하시고, 아니라면 0을 입력하세요.9\n",
            "계속 입력을 원하시면, 자연수 한 개를 입력하시고, 아니라면 0을 입력하세요.10\n",
            "이제 그만하세요. 벌써 100개를 입력했어요.\n",
            "[10, 9, 8, 7, 6, 5, 4, 3, 2, 1]\n"
          ]
        }
      ]
    },
    {
      "cell_type": "code",
      "source": [
        "a = int(input(\"숫자를 입력하세요: \"))\n",
        "n = 1\n",
        "\n",
        "if a <= 30:\n",
        "  while n <= a:\n",
        "    print(\"*\"*(n-1), end = \"\")\n",
        "    print(n)\n",
        "    n += 1\n",
        "\n",
        "elif a > 30:\n",
        "  print(\"숫자가 너무 많습니다.\")"
      ],
      "metadata": {
        "colab": {
          "base_uri": "https://localhost:8080/"
        },
        "id": "oSkkcp03tv-h",
        "outputId": "6c5481df-a5d0-4112-fea5-b6909b02116f"
      },
      "execution_count": 7,
      "outputs": [
        {
          "output_type": "stream",
          "name": "stdout",
          "text": [
            "숫자를 입력하세요: 5\n",
            "1\n",
            "*2\n",
            "**3\n",
            "***4\n",
            "****5\n"
          ]
        }
      ]
    }
  ]
}