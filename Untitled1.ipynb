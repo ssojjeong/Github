{
  "nbformat": 4,
  "nbformat_minor": 0,
  "metadata": {
    "colab": {
      "provenance": [],
      "authorship_tag": "ABX9TyPTGRE/5z4V4kzbYdRrcLcr",
      "include_colab_link": true
    },
    "kernelspec": {
      "name": "python3",
      "display_name": "Python 3"
    },
    "language_info": {
      "name": "python"
    }
  },
  "cells": [
    {
      "cell_type": "markdown",
      "metadata": {
        "id": "view-in-github",
        "colab_type": "text"
      },
      "source": [
        "<a href=\"https://colab.research.google.com/github/ssojjeong/Github/blob/main/Untitled1.ipynb\" target=\"_parent\"><img src=\"https://colab.research.google.com/assets/colab-badge.svg\" alt=\"Open In Colab\"/></a>"
      ]
    },
    {
      "cell_type": "code",
      "execution_count": 3,
      "metadata": {
        "id": "oNw3i25L0t6t",
        "colab": {
          "base_uri": "https://localhost:8080/"
        },
        "outputId": "68d9f52d-0506-44ca-ecee-67d6eec61182"
      },
      "outputs": [
        {
          "output_type": "stream",
          "name": "stdout",
          "text": [
            "x의 값을 입력하세요: 4\n",
            "y의 값을 입력하세요: 7\n",
            "x와 y는 서로의 약수가 아니다.\n"
          ]
        }
      ],
      "source": [
        "x = int(input(\"x의 값을 입력하세요: \"))\n",
        "y = int(input(\"y의 값을 입력하세요: \"))\n",
        "\n",
        "def f(x,y):\n",
        "  if y % x == 0:\n",
        "    return 1\n",
        "  else:\n",
        "    return 0\n",
        "\n",
        "if f(x,y) == 1:\n",
        "  if f(y,x) == 1:\n",
        "    print(\"x와 y는 같은 숫자이다.\")\n",
        "  else:\n",
        "    print(\"x는 y의 약수이지만, y가 아니다.\")\n",
        "else:\n",
        "  if f(y,x) == 1:\n",
        "    print(\"y는 x의 약수이지만, x는 아니다.\")\n",
        "  else:\n",
        "    print(\"x와 y는 서로의 약수가 아니다.\")"
      ]
    }
  ]
}