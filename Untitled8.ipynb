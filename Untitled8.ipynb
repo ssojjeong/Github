{
  "nbformat": 4,
  "nbformat_minor": 0,
  "metadata": {
    "colab": {
      "provenance": [],
      "authorship_tag": "ABX9TyMIUDzJ58gLbo5yQtvtJcLB",
      "include_colab_link": true
    },
    "kernelspec": {
      "name": "python3",
      "display_name": "Python 3"
    },
    "language_info": {
      "name": "python"
    }
  },
  "cells": [
    {
      "cell_type": "markdown",
      "metadata": {
        "id": "view-in-github",
        "colab_type": "text"
      },
      "source": [
        "<a href=\"https://colab.research.google.com/github/ssojjeong/Github/blob/main/Untitled8.ipynb\" target=\"_parent\"><img src=\"https://colab.research.google.com/assets/colab-badge.svg\" alt=\"Open In Colab\"/></a>"
      ]
    },
    {
      "cell_type": "code",
      "execution_count": 1,
      "metadata": {
        "colab": {
          "base_uri": "https://localhost:8080/"
        },
        "id": "4Lk6tT0h00tp",
        "outputId": "55e7c9aa-b475-4ee0-bf6a-5005f19e32a8"
      },
      "outputs": [
        {
          "output_type": "stream",
          "name": "stdout",
          "text": [
            "Downloading data from https://storage.googleapis.com/tensorflow/tf-keras-datasets/train-labels-idx1-ubyte.gz\n",
            "29515/29515 [==============================] - 0s 0us/step\n",
            "Downloading data from https://storage.googleapis.com/tensorflow/tf-keras-datasets/train-images-idx3-ubyte.gz\n",
            "26421880/26421880 [==============================] - 0s 0us/step\n",
            "Downloading data from https://storage.googleapis.com/tensorflow/tf-keras-datasets/t10k-labels-idx1-ubyte.gz\n",
            "5148/5148 [==============================] - 0s 0us/step\n",
            "Downloading data from https://storage.googleapis.com/tensorflow/tf-keras-datasets/t10k-images-idx3-ubyte.gz\n",
            "4422102/4422102 [==============================] - 0s 0us/step\n"
          ]
        }
      ],
      "source": [
        "import tensorflow as tf\n",
        "import matplotlib.pyplot as plt\n",
        "import numpy as np\n",
        "\n",
        "\n",
        "fashion_mnist = tf.keras.datasets.fashion_mnist\n",
        "\n",
        "(x_train, y_train), (x_test, y_test) = fashion_mnist.load_data()"
      ]
    },
    {
      "cell_type": "code",
      "source": [
        "type(x_train)"
      ],
      "metadata": {
        "colab": {
          "base_uri": "https://localhost:8080/"
        },
        "id": "oF93iuT-1ouF",
        "outputId": "994157d5-c62b-4c21-bab4-86f1de0db336"
      },
      "execution_count": 2,
      "outputs": [
        {
          "output_type": "execute_result",
          "data": {
            "text/plain": [
              "numpy.ndarray"
            ]
          },
          "metadata": {},
          "execution_count": 2
        }
      ]
    },
    {
      "cell_type": "code",
      "source": [
        "print(x_train.shape)"
      ],
      "metadata": {
        "colab": {
          "base_uri": "https://localhost:8080/"
        },
        "id": "tqN4W-wG1oxf",
        "outputId": "fa6f9f1f-363b-46e7-b24d-b628634585df"
      },
      "execution_count": 3,
      "outputs": [
        {
          "output_type": "stream",
          "name": "stdout",
          "text": [
            "(60000, 28, 28)\n"
          ]
        }
      ]
    },
    {
      "cell_type": "code",
      "source": [
        "plt.imshow(x_train[5], cmap='Greys')\n",
        "plt.show()"
      ],
      "metadata": {
        "colab": {
          "base_uri": "https://localhost:8080/",
          "height": 265
        },
        "id": "SK2Lj_jF1o0C",
        "outputId": "e346fd55-1b45-48aa-dc5e-d970056cd5e2"
      },
      "execution_count": 4,
      "outputs": [
        {
          "output_type": "display_data",
          "data": {
            "text/plain": [
              "<Figure size 432x288 with 1 Axes>"
            ],
            "image/png": "[encoded data removed]"
          },
          "metadata": {
            "needs_background": "light"
          }
        }
      ]
    },
    {
      "cell_type": "code",
      "source": [
        "import sys\n",
        "\n",
        "for x in x_train[5]:\n",
        "    for i in x:\n",
        "        sys.stdout.write(\"%-3s\" % i)\n",
        "    sys.stdout.write('\\n')"
      ],
      "metadata": {
        "colab": {
          "base_uri": "https://localhost:8080/"
        },
        "id": "0GoGXZSF1o2j",
        "outputId": "6ba54c03-73d0-43c2-d975-e7c1f093ae8d"
      },
      "execution_count": 5,
      "outputs": [
        {
          "output_type": "stream",
          "name": "stdout",
          "text": [
            "0  0  0  0  1  0  0  0  0  22 88 1881721321251411991439  0  0  0  1  0  0  0  0  0  \n",
            "0  0  0  1  0  0  20 13119920619620224225525525022219720618812617 0  0  0  0  0  0  \n",
            "0  0  0  1  0  35 21419118317817516815016215915215817918318919518582 0  0  0  0  0  \n",
            "0  0  0  0  0  17019017217717617116916215514815416917417517517718318812 0  0  0  0  \n",
            "0  0  0  0  25 19418017817418418718918718418118920019719319017817519490 0  0  0  0  \n",
            "0  0  0  0  42 2181911972082042112092102122112142152132142112111912001580  0  0  0  \n",
            "0  0  0  0  88 22121521721921118515011810799 88 83 90 1352122032072191690  0  0  0  \n",
            "0  0  0  0  0  27 11816240 0  0  0  10 19 28 39 47 36 0  0  2032302202030  0  0  0  \n",
            "0  0  0  0  13813671 69 54 21621720318416816316216317822118638 26 7  0  0  0  0  0  \n",
            "0  0  0  0  67 13415422412966 81 11712912813213713112986 73 15715113421618 0  0  0  \n",
            "0  0  0  0  20319817218320625525525024324023923523824425523818416086 98 0  0  0  0  \n",
            "0  0  0  0  12218822415110512797 10010511411711711310398 11114225419125549 0  0  0  \n",
            "0  0  0  0  16317920095 15419819720020019819719819920220017686 20615716210 0  0  0  \n",
            "0  0  0  0  19720122971 14419418118317918218017918019018519776 21918520134 0  0  0  \n",
            "0  0  0  0  19919322658 15419218418718418618418518319219120056 21920320760 0  0  0  \n",
            "0  0  0  0  20119422441 16319018618618418518318517819019420233 21120020673 0  0  0  \n",
            "0  0  0  0  20119722217 17219018618718218618518718018719320226 21220220376 0  0  0  \n",
            "0  0  0  0  2001972230  17718918418517818418318418018318920335 19620320384 0  0  0  \n",
            "0  0  0  0  2001972230  18518718518718018418218317818218320544 15920720185 0  0  0  \n",
            "0  0  0  0  1871982250  19418818418518018318318418118117720646 12921120088 0  0  0  \n",
            "0  0  0  6  1862002110  19918918418418518218318418518217520550 97 21619793 0  0  0  \n",
            "0  0  0  5  1852041840  20218818218218318318418218018217420263 59 22019694 0  0  0  \n",
            "0  0  0  5  1842061570  20418718718919219019019119018718320278 35 22219795 0  0  0  \n",
            "0  0  0  5  1832081270  19716615314914914614814915015115819190 8  22319599 0  0  0  \n",
            "0  0  0  6  1842081140  2041731611801761721731731741761622021150  2291991050  0  0  \n",
            "0  0  0  9  1782041150  12113511411711411411711811911711314763 0  2251961070  0  0  \n",
            "0  0  0  18 1802061310  0  0  0  0  0  0  0  0  0  0  0  0  0  0  2241971230  0  0  \n",
            "0  0  0  0  14115176 0  1  1  0  0  0  0  0  0  0  0  0  0  0  0  13316773 0  0  0  \n"
          ]
        }
      ]
    },
    {
      "cell_type": "code",
      "source": [
        "y_test[0:50]"
      ],
      "metadata": {
        "colab": {
          "base_uri": "https://localhost:8080/"
        },
        "id": "QyHPZVxU5gj_",
        "outputId": "70f855cd-21ff-42d9-8485-a3af004a811f"
      },
      "execution_count": 6,
      "outputs": [
        {
          "output_type": "execute_result",
          "data": {
            "text/plain": [
              "array([9, 2, 1, 1, 6, 1, 4, 6, 5, 7, 4, 5, 7, 3, 4, 1, 2, 4, 8, 0, 2, 5,\n",
              "       7, 9, 1, 4, 6, 0, 9, 3, 8, 8, 3, 3, 8, 0, 7, 5, 7, 9, 6, 1, 3, 7,\n",
              "       6, 7, 2, 1, 2, 2], dtype=uint8)"
            ]
          },
          "metadata": {},
          "execution_count": 6
        }
      ]
    },
    {
      "cell_type": "code",
      "source": [
        "from keras.datasets import mnist\n",
        "from keras.utils import np_utils\n",
        "from keras.models import Sequential\n",
        "from keras.layers import Dense, Dropout, Flatten, Conv2D, MaxPooling2D\n",
        "from keras.callbacks import ModelCheckpoint, EarlyStopping\n",
        "\n",
        "import matplotlib.pyplot as plt\n",
        "import numpy\n",
        "import os\n",
        "import tensorflow as tf\n",
        "\n",
        "(x_train, y_train), (x_test, y_test) = mnist.load_data()\n",
        "\n",
        "x_train = x_train.reshape(x_train.shape[0], 28, 28, 1).astype('float32') / 255\n",
        "x_test = x_test.reshape(x_test.shape[0], 28, 28, 1).astype('float32') / 255\n",
        "y_train = np_utils.to_categorical(y_train)\n",
        "y_test = np_utils.to_categorical(y_test)"
      ],
      "metadata": {
        "id": "nqfJpaJfEc2G"
      },
      "execution_count": 17,
      "outputs": []
    },
    {
      "cell_type": "code",
      "source": [
        "model = Sequential()\n",
        "model.add(Conv2D(32, kernel_size=(3, 3), input_shape=(28, 28, 1), activation='relu'))\n",
        "model.add(Conv2D(64, (3, 3), activation='relu'))\n",
        "model.add(MaxPooling2D(pool_size=1))\n",
        "model.add(Dropout(0.5))\n",
        "model.add(Flatten())\n",
        "model.add(Dense(128,  activation='relu'))\n",
        "model.add(Dropout(0.1))\n",
        "model.add(Dense(10, activation='softmax'))\n",
        "\n",
        "model.compile(loss='categorical_crossentropy',\n",
        "              optimizer='adam',\n",
        "              metrics=['accuracy'])\n",
        "\n",
        "modelpath=\"./data/model/MNIST_CNN.hdf5\"\n",
        "\n",
        "\n",
        "checkpointer = ModelCheckpoint(filepath=modelpath, monitor='val_loss', verbose=1, save_best_only=True)\n",
        "early_stopping_callback = EarlyStopping(monitor='val_loss', patience=10)\n",
        "\n",
        "history = model.fit(x_train, y_train, validation_split=0.5, epochs=10, batch_size=50, verbose=0, callbacks=[early_stopping_callback,checkpointer])\n",
        "\n",
        "print(\"\\n Test Accuracy: %.4f\" % (model.evaluate(x_test, y_test)[1]))"
      ],
      "metadata": {
        "colab": {
          "base_uri": "https://localhost:8080/"
        },
        "id": "asPZzvO73fbK",
        "outputId": "d65279dc-8e51-4f44-9907-f6545fbd1a24"
      },
      "execution_count": 23,
      "outputs": [
        {
          "output_type": "stream",
          "name": "stdout",
          "text": [
            "\n",
            "Epoch 1: val_loss improved from inf to 0.07657, saving model to ./data/model/MNIST_CNN.hdf5\n",
            "\n",
            "Epoch 2: val_loss improved from 0.07657 to 0.05953, saving model to ./data/model/MNIST_CNN.hdf5\n",
            "\n",
            "Epoch 3: val_loss did not improve from 0.05953\n",
            "\n",
            "Epoch 4: val_loss improved from 0.05953 to 0.05691, saving model to ./data/model/MNIST_CNN.hdf5\n",
            "\n",
            "Epoch 5: val_loss did not improve from 0.05691\n",
            "\n",
            "Epoch 6: val_loss did not improve from 0.05691\n",
            "\n",
            "Epoch 7: val_loss did not improve from 0.05691\n",
            "\n",
            "Epoch 8: val_loss did not improve from 0.05691\n",
            "\n",
            "Epoch 9: val_loss did not improve from 0.05691\n",
            "\n",
            "Epoch 10: val_loss did not improve from 0.05691\n",
            "313/313 [==============================] - 9s 30ms/step - loss: 0.0667 - accuracy: 0.9859\n",
            "\n",
            " Test Accuracy: 0.9859\n"
          ]
        }
      ]
    },
    {
      "cell_type": "code",
      "source": [
        "y_vloss = history.history['val_loss']\n",
        "y_loss = history.history['loss']\n",
        "\n",
        "x_len = np.arange(len(y_loss))\n",
        "plt.plot(x_len, y_vloss, marker='.', c=\"red\", label='Testset_loss')\n",
        "plt.plot(x_len, y_loss, marker='.', c=\"blue\", label='Trainset_loss')\n",
        "\n",
        "\n",
        "plt.legend(loc='upper right')\n",
        "plt.grid()\n",
        "plt.xlabel('epoch')\n",
        "plt.ylabel('loss')\n",
        "plt.show()"
      ],
      "metadata": {
        "colab": {
          "base_uri": "https://localhost:8080/",
          "height": 279
        },
        "id": "6EzAom6mDHnh",
        "outputId": "4604788a-5064-4a3f-9d41-68e7e2471507"
      },
      "execution_count": 24,
      "outputs": [
        {
          "output_type": "display_data",
          "data": {
            "text/plain": [
              "<Figure size 432x288 with 1 Axes>"
            ],
            "image/png": "[encoded data removed]"
          },
          "metadata": {
            "needs_background": "light"
          }
        }
      ]
    }
  ]
}